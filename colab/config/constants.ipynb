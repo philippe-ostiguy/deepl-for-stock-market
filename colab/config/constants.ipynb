{
 "cells": [
  {
   "cell_type": "code",
   "execution_count": null,
   "id": "bd90ffea",
   "metadata": {},
   "outputs": [],
   "source": [
    "%matplotlib inline"
   ]
  },
  {
   "cell_type": "markdown",
   "id": "0cae5463",
   "metadata": {
    "cell_marker": "# ###############################################################################"
   },
   "source": [
    "\n",
    " The MIT License (MIT)\n",
    " Copyright (c) 2023 Philippe Ostiguy\n",
    "\n",
    " Permission is hereby granted, free of charge, to any person obtaining a copy\n",
    " of this software and associated documentation files (the \"Software\"), to deal\n",
    " in the Software without restriction, including without limitation the rights\n",
    " to use, copy, modify, merge, publish, distribute, sublicense, and/or sell\n",
    " copies of the Software, and to permit persons to whom the Software is\n",
    " furnished to do so, subject to the following conditions:\n",
    "\n",
    " The above copyright notice and this permission notice shall be included in\n",
    " all copies or substantial portions of the Software.\n",
    "\n",
    " THE SOFTWARE IS PROVIDED \"AS IS\", WITHOUT WARRANTY OF ANY KIND,\n",
    " EXPRESS OR IMPLIED, INCLUDING BUT NOT LIMITED TO THE WARRANTIES OF\n",
    " MERCHANTABILITY, FITNESS FOR A PARTICULAR PURPOSE AND NONINFRINGEMENT.\n",
    " IN NO EVENT SHALL THE AUTHORS OR COPYRIGHT HOLDERS BE LIABLE FOR ANY CLAIM,\n",
    " DAMAGES OR OTHER LIABILITY, WHETHER IN AN ACTION OF CONTRACT, TORT OR\n",
    " OTHERWISE, ARISING FROM, OUT OF OR IN CONNECTION WITH THE SOFTWARE OR THE USE\n",
    " OR OTHER DEALINGS IN THE SOFTWARE.\n",
    "##############################################################################"
   ]
  },
  {
   "cell_type": "code",
   "execution_count": null,
   "id": "ac9a5602",
   "metadata": {},
   "outputs": [],
   "source": [
    "import os\n",
    "\n",
    "INPUT_PATH = \"resources/input\"\n",
    "WORK_DIRECTORY = os.getcwd()\n",
    "MODELS_PATH = \"models\"\n",
    "\n",
    "MODEL_OPTIMIZATION_PATH = 'models/hyperparameter_optimization_optuna'\n",
    "RAW_PATH = os.path.join(INPUT_PATH, \"raw\")\n",
    "PREPROCESSED_PATH = os.path.join(INPUT_PATH, \"preprocessed\")\n",
    "ENGINEERED_PATH = os.path.join(INPUT_PATH, \"engineered\")\n",
    "LIGHTNING_LOGS = 'lightning_logs'\n",
    "PICKLE = \"pickle\"\n",
    "TRANSFORMATION_PATH = os.path.join(INPUT_PATH, PICKLE)\n",
    "MODEL_DATA_PATH = os.path.join(INPUT_PATH, \"model_data\")\n",
    "PATHS_TO_CREATE = [\n",
    "    INPUT_PATH,\n",
    "    MODELS_PATH,\n",
    "    RAW_PATH,\n",
    "    PREPROCESSED_PATH,\n",
    "    ENGINEERED_PATH,\n",
    "    TRANSFORMATION_PATH,\n",
    "    MODEL_DATA_PATH,\n",
    "    MODEL_OPTIMIZATION_PATH,\n",
    "    LIGHTNING_LOGS\n",
    "]\n",
    "\n",
    "# Data attributes\n",
    "RAW_ATTRIBUTES = [\"date\", \"value\"]\n",
    "MODEL_PHASES = [\"train\", \"predict\"]\n",
    "\n",
    "# Data engineering\n",
    "ENGINEERED_DATA_TO_REMOVE = 2\n",
    "\n",
    "\n",
    "DATASETS = ['train', 'predict', 'test']"
   ]
  }
 ],
 "metadata": {
  "jupytext": {
   "cell_metadata_filter": "-all",
   "main_language": "python",
   "notebook_metadata_filter": "-all"
  }
 },
 "nbformat": 4,
 "nbformat_minor": 5
}
