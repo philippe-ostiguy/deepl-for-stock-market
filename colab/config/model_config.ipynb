{
 "cells": [
  {
   "cell_type": "code",
   "execution_count": null,
   "id": "b1a4c9e0",
   "metadata": {},
   "outputs": [],
   "source": [
    "from torch.optim.lr_scheduler import (\n",
    "    OneCycleLR,\n",
    "    ExponentialLR,\n",
    "    ReduceLROnPlateau,\n",
    ")\n",
    "from pytorch_forecasting.metrics import RMSE, QuantileLoss, MASE, SMAPE\n",
    "from lightning.pytorch.callbacks import ModelCheckpoint, EarlyStopping"
   ]
  },
  {
   "cell_type": "code",
   "execution_count": null,
   "id": "6cdc3d60",
   "metadata": {},
   "outputs": [],
   "source": [
    "LR_SCHEDULER_MAPPING = {\n",
    "    \"OneCycleLR\": OneCycleLR,\n",
    "    \"ExponentialLR\": ExponentialLR,\n",
    "    \"ReduceLROnPlateau\": ReduceLROnPlateau,\n",
    "}"
   ]
  },
  {
   "cell_type": "code",
   "execution_count": null,
   "id": "70511b5b",
   "metadata": {},
   "outputs": [],
   "source": [
    "PYTORCH_CALLBACKS = {\n",
    "    'EarlyStopping' : EarlyStopping,\n",
    "    'ModelCheckPoint' : ModelCheckpoint"
   ]
  },
  {
   "cell_type": "code",
   "execution_count": null,
   "id": "7ec3ee0f",
   "metadata": {},
   "outputs": [],
   "source": [
    "}"
   ]
  },
  {
   "cell_type": "code",
   "execution_count": null,
   "id": "8fe029f5",
   "metadata": {},
   "outputs": [],
   "source": [
    "LOSS = {\n",
    "    'RMSE' : RMSE,\n",
    "    'QuantileLoss': QuantileLoss,\n",
    "    'MASE' : MASE,\n",
    "    'SMAPE' : SMAPE,"
   ]
  },
  {
   "cell_type": "code",
   "execution_count": null,
   "id": "014d867e",
   "metadata": {},
   "outputs": [],
   "source": [
    "}"
   ]
  }
 ],
 "metadata": {
  "jupytext": {
   "cell_metadata_filter": "-all",
   "main_language": "python",
   "notebook_metadata_filter": "-all"
  }
 },
 "nbformat": 4,
 "nbformat_minor": 5
}
