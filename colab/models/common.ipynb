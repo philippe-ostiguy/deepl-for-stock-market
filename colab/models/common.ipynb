{
 "cells": [
  {
   "cell_type": "code",
   "execution_count": null,
   "id": "a772f9c7",
   "metadata": {
    "lines_to_next_cell": 1
   },
   "outputs": [],
   "source": [
    "import torch"
   ]
  },
  {
   "cell_type": "code",
   "execution_count": null,
   "id": "e43e3e13",
   "metadata": {},
   "outputs": [],
   "source": [
    "def get_risk_rewards_metrics(daily_returns : torch.Tensor) -> dict:\n",
    "    metrics = {}\n",
    "    if daily_returns.shape[0] <= 15:\n",
    "        metrics['annualized_return'] = torch.tensor(0.0)\n",
    "        metrics['annualized_risk'] = torch.tensor(0.0)\n",
    "        metrics['return_on_risk'] = torch.tensor(0.0)\n",
    "        return metrics\n",
    "\n",
    "    metrics['annualized_return'] = torch.prod(1 + daily_returns) ** (\n",
    "            252.0 / daily_returns.shape[0]) - 1\n",
    "    metrics['annualized_risk'] = daily_returns.std() * (252 ** 0.5)\n",
    "    if metrics['annualized_risk'].item() < 1e-6:\n",
    "        metrics['return_on_risk'] = torch.tensor(0.0, dtype=torch.float)\n",
    "    else:\n",
    "        metrics['return_on_risk'] = metrics['annualized_return'] / metrics['annualized_risk']\n",
    "\n",
    "    return metrics"
   ]
  }
 ],
 "metadata": {
  "jupytext": {
   "cell_metadata_filter": "-all",
   "main_language": "python",
   "notebook_metadata_filter": "-all"
  }
 },
 "nbformat": 4,
 "nbformat_minor": 5
}
