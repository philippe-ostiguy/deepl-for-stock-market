{
 "cells": [
  {
   "cell_type": "code",
   "execution_count": null,
   "id": "90518a0c",
   "metadata": {
    "lines_to_next_cell": 1
   },
   "outputs": [],
   "source": [
    "from torchmetrics import Metric\n",
    "import torch\n",
    "from pytorch_forecasting import TemporalFusionTransformer, DeepAR, NHiTS, RecurrentNetwork\n",
    "from mean_reversion.config.config_utils import ConfigManager, ModelValueRetriver\n",
    "from mean_reversion.models.common import get_risk_rewards_metrics\n",
    "import logging"
   ]
  },
  {
   "cell_type": "code",
   "execution_count": null,
   "id": "4164d295",
   "metadata": {},
   "outputs": [],
   "source": [
    "class PortfolioReturnMetric(Metric):\n",
    "    higher_is_better = True\n",
    "    full_state_update = True\n",
    "    def __init__(self, dist_sync_on_step=True, values_retriever = ModelValueRetriver(), config_manager = ConfigManager()):\n",
    "        super().__init__(dist_sync_on_step=dist_sync_on_step)\n",
    "\n",
    "        self._lower_index, self._upper_index = values_retriever.confidence_indexes\n",
    "        self._config =config_manager.config\n",
    "        self.add_state(\"daily_returns\", default=[], dist_reduce_fx=\"cat\")\n",
    "\n",
    "    def update(self, preds: torch.Tensor, target_tensors: tuple):\n",
    "        targets_size = len(target_tensors)\n",
    "        for item in range(targets_size+1):\n",
    "            if item == 0:\n",
    "                print('\\n')\n",
    "            print(f'current item in update() : {item}')\n",
    "            target_tensor = target_tensors[0][item]\n",
    "\n",
    "            values = preds['prediction'][item].detach().cpu().numpy().squeeze()\n",
    "            list_preds = values.tolist()\n",
    "\n",
    "            if all(isinstance(lst, list) for lst in list_preds):\n",
    "                sorted_preds = [sorted(lst) for lst in list_preds]\n",
    "                low_predictions = [lst[self._lower_index] for lst in sorted_preds]\n",
    "                high_predictions =[lst[self._upper_index] for lst in sorted_preds]\n",
    "            else :\n",
    "                low_predictions = list_preds\n",
    "                high_predictions = list_preds\n",
    "\n",
    "            target = target_tensor.squeeze().tolist()\n",
    "\n",
    "\n",
    "            if not self._config[\"common\"][\"make_data_stationary\"]:\n",
    "                former_target = target\n",
    "                target = [(target[i] / target[i - 1]) -1 for i in range(1, len(target))]\n",
    "\n",
    "                low_predictions = [(low_predictions[i] / former_target[i - 1]) -1 for i in\n",
    "                                   range(1, len(low_predictions))]\n",
    "                high_predictions = [(high_predictions[i] / former_target[i - 1]) -1 for i in\n",
    "                                    range(1, len(high_predictions))]\n",
    "\n",
    "            daily_returns = []\n",
    "            no_position_count = 0\n",
    "            for actual, low_pred, high_pred in zip( target,\n",
    "                                                         low_predictions,\n",
    "                                                         high_predictions):\n",
    "                if low_pred > 0 and high_pred >0:\n",
    "                    daily_returns.append(actual)\n",
    "                elif high_pred < 0 and low_pred < 0:\n",
    "                    daily_returns.append(-actual)\n",
    "                else:\n",
    "                   no_position_count +=1\n",
    "\n",
    "            daily_returns_tensor = torch.tensor(daily_returns)\n",
    "            if len(self.daily_returns) <= item:\n",
    "                self.daily_returns.append(daily_returns_tensor)\n",
    "            else:\n",
    "                self.daily_returns[item] = torch.cat(\n",
    "                    [self.daily_returns[item], daily_returns_tensor], dim=0)\n",
    "            if item == 0:\n",
    "                print('\\n')\n",
    "            print(f'Nb of trade in update(): {len(self.daily_returns[item])}')\n",
    "\n",
    "\n",
    "\n",
    "    def compute(self):\n",
    "        if not self.daily_returns:\n",
    "            return torch.tensor(0.0)\n",
    "\n",
    "        weighted_return_on_risks = torch.tensor(0.0)\n",
    "        total_trades = 0\n",
    "        all_metrics = []\n",
    "\n",
    "        for idx, returns in enumerate(self.daily_returns):\n",
    "            print(f'Item index in compute: {idx}')\n",
    "            metrics = get_risk_rewards_metrics(returns)\n",
    "            num_of_trades = returns.shape[0]\n",
    "            return_on_risk = metrics['return_on_risk']\n",
    "            weighted_return_on_risks += return_on_risk * num_of_trades\n",
    "            total_trades += num_of_trades\n",
    "            all_metrics.append(metrics)\n",
    "\n",
    "        if total_trades <= self._config['common']['min_nb_trades']:\n",
    "            print(\n",
    "                f'\\nLow nb of trades in compute: {total_trades}')\n",
    "            return torch.tensor(0.0)\n",
    "        avg_weighted_return_on_risk = weighted_return_on_risks / total_trades\n",
    "        print(\n",
    "            f'\\nWeighted return on risk in compute(): {avg_weighted_return_on_risk}')\n",
    "        threshold_evaluation = 20\n",
    "        if avg_weighted_return_on_risk > threshold_evaluation:\n",
    "            logging.warning(f\"\\nOn current epoch, avg_weighted_return_on_risk is \"\n",
    "                            f\"higher than {threshold_evaluation}: {avg_weighted_return_on_risk}\")\n",
    "            return 0\n",
    "        return avg_weighted_return_on_risk"
   ]
  },
  {
   "cell_type": "code",
   "execution_count": null,
   "id": "8ef3ef21",
   "metadata": {
    "lines_to_next_cell": 1
   },
   "outputs": [],
   "source": [
    "class BaseReturnMetricModel:\n",
    "    def __init__(self, *args, **kwargs):\n",
    "        super().__init__(*args, **kwargs)\n",
    "        self.portfolio_metric = PortfolioReturnMetric()\n",
    "        self.best_return_on_risk = None\n",
    "        self.best_epoch = None\n",
    "\n",
    "    def validation_step(self, batch, batch_idx):\n",
    "        log = super().validation_step(batch, batch_idx)\n",
    "\n",
    "        prediction_batch, targets = batch\n",
    "        preds = log.get(\"prediction\", None)\n",
    "        if preds is None:\n",
    "            preds = self(prediction_batch)\n",
    "\n",
    "        return_on_risk = self.portfolio_metric(preds, targets)\n",
    "        self.log('return_on_risk', return_on_risk, on_step=True, on_epoch=True)\n",
    "\n",
    "        return self.log\n",
    "\n",
    "    def on_validation_epoch_end(self):\n",
    "        aggregated_return_on_risk = self.trainer.callback_metrics[\n",
    "            'return_on_risk']\n",
    "\n",
    "        self.log('val_PortfolioReturnMetric', aggregated_return_on_risk)\n",
    "\n",
    "\n",
    "        if self.best_return_on_risk is None or aggregated_return_on_risk > self.best_return_on_risk:\n",
    "            self.best_return_on_risk = aggregated_return_on_risk\n",
    "            self.best_epoch = self.current_epoch\n",
    "\n",
    "        print(\n",
    "            f\"\\nBest Return on Risk so far: {self.best_return_on_risk}, achieved at epoch: {self.best_epoch}\")\n",
    "\n",
    "        self.validation_step_outputs.clear()\n",
    "        self.portfolio_metric.reset()\n",
    "        super().on_validation_epoch_end()"
   ]
  },
  {
   "cell_type": "code",
   "execution_count": null,
   "id": "3d9da025",
   "metadata": {
    "lines_to_next_cell": 1
   },
   "outputs": [],
   "source": [
    "class CustomTemporalFusionTransformer(BaseReturnMetricModel, TemporalFusionTransformer):\n",
    "    pass"
   ]
  },
  {
   "cell_type": "code",
   "execution_count": null,
   "id": "20d7e11e",
   "metadata": {
    "lines_to_next_cell": 1
   },
   "outputs": [],
   "source": [
    "class CustomDeepAR(BaseReturnMetricModel, DeepAR):\n",
    "    pass"
   ]
  },
  {
   "cell_type": "code",
   "execution_count": null,
   "id": "9b9b6fb6",
   "metadata": {
    "lines_to_next_cell": 1
   },
   "outputs": [],
   "source": [
    "class CustomlRecurrentNetwork(BaseReturnMetricModel, RecurrentNetwork):\n",
    "    pass"
   ]
  },
  {
   "cell_type": "code",
   "execution_count": null,
   "id": "0a9a0f08",
   "metadata": {},
   "outputs": [],
   "source": [
    "class CustomNHiTS(BaseReturnMetricModel, NHiTS):\n",
    "    pass"
   ]
  }
 ],
 "metadata": {
  "jupytext": {
   "cell_metadata_filter": "-all",
   "main_language": "python",
   "notebook_metadata_filter": "-all"
  }
 },
 "nbformat": 4,
 "nbformat_minor": 5
}
