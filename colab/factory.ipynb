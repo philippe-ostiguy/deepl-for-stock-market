{
 "cells": [
  {
   "cell_type": "code",
   "execution_count": null,
   "id": "4318537d",
   "metadata": {},
   "outputs": [],
   "source": [
    "from typing import Optional"
   ]
  },
  {
   "cell_type": "code",
   "execution_count": null,
   "id": "047fe2e1",
   "metadata": {},
   "outputs": [],
   "source": [
    "from mean_reversion.data_processor import (\n",
    "    BaseDataProcessor,\n",
    "    AlphaVantage,\n",
    "    FRED,\n",
    "    MacroTrends,\n",
    "    Reddit\n",
    ")"
   ]
  },
  {
   "cell_type": "code",
   "execution_count": null,
   "id": "0ef2f1b7",
   "metadata": {},
   "outputs": [],
   "source": [
    "class DataSourceFactory:\n",
    "    @classmethod\n",
    "    def implement_data_source(\n",
    "        cls,\n",
    "        data_for_source: dict,\n",
    "        data_processor_helper,\n",
    "        is_input_feature: Optional[bool] = True,\n",
    "    ) -> BaseDataProcessor:\n",
    "        source = data_for_source.get(\"source\").lower()\n",
    "        if source == \"reddit\":\n",
    "            return Reddit(\n",
    "                specific_config=data_for_source, data_processor_helper=data_processor_helper, is_input_feature=is_input_feature\n",
    "            )\n",
    "        if source == \"av\":\n",
    "            return AlphaVantage(\n",
    "                specific_config=data_for_source, data_processor_helper=data_processor_helper, is_input_feature=is_input_feature\n",
    "            )\n",
    "        elif source == \"fred\":\n",
    "            return FRED(\n",
    "                specific_config=data_for_source, data_processor_helper=data_processor_helper, is_input_feature=is_input_feature\n",
    "            )\n",
    "        elif source == \"macrotrends\":\n",
    "            return MacroTrends(\n",
    "                specific_config=data_for_source, data_processor_helper=data_processor_helper, is_input_feature=is_input_feature\n",
    "            )\n",
    "\n",
    "        else:\n",
    "            raise ValueError(f\"Unknown data type: {source}\")"
   ]
  }
 ],
 "metadata": {
  "jupytext": {
   "cell_metadata_filter": "-all",
   "main_language": "python",
   "notebook_metadata_filter": "-all"
  }
 },
 "nbformat": 4,
 "nbformat_minor": 5
}
