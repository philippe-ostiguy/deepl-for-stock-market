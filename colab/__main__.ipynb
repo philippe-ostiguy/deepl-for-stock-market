{
 "cells": [
  {
   "cell_type": "code",
   "execution_count": null,
   "id": "f5481f45",
   "metadata": {},
   "outputs": [],
   "source": [
    "%matplotlib inline"
   ]
  },
  {
   "cell_type": "markdown",
   "id": "c78b4bf5",
   "metadata": {
    "cell_marker": "# ###############################################################################"
   },
   "source": [
    "\n",
    " The MIT License (MIT)\n",
    " Copyright (c) 2023 Philippe Ostiguy\n",
    "\n",
    " Permission is hereby granted, free of charge, to any person obtaining a copy\n",
    " of this software and associated documentation files (the \"Software\"), to deal\n",
    " in the Software without restriction, including without limitation the rights\n",
    " to use, copy, modify, merge, publish, distribute, sublicense, and/or sell\n",
    " copies of the Software, and to permit persons to whom the Software is\n",
    " furnished to do so, subject to the following conditions:\n",
    "\n",
    " The above copyright notice and this permission notice shall be included in all\n",
    " copies or substantial portions of the Software.\n",
    "\n",
    " THE SOFTWARE IS PROVIDED \"AS IS\", WITHOUT WARRANTY OF ANY KIND,\n",
    " EXPRESS OR IMPLIED, INCLUDING BUT NOT LIMITED TO THE WARRANTIES OF\n",
    " MERCHANTABILITY, FITNESS FOR A PARTICULAR PURPOSE AND NONINFRINGEMENT.\n",
    " IN NO EVENT SHALL THE AUTHORS OR COPYRIGHT HOLDERS BE LIABLE FOR ANY CLAIM,\n",
    " DAMAGES OR OTHER LIABILITY, WHETHER IN AN ACTION OF CONTRACT, TORT OR\n",
    " OTHERWISE, ARISING FROM, OUT OF OR IN CONNECTION WITH THE SOFTWARE OR THE USE\n",
    " OR OTHER DEALINGS IN THE SOFTWARE.\n",
    "##############################################################################"
   ]
  },
  {
   "cell_type": "code",
   "execution_count": null,
   "id": "47394822",
   "metadata": {},
   "outputs": [],
   "source": [
    "from mean_reversion.data_processor import (\n",
    "    DataForModelSelector,\n",
    "    FutureCovariatesProcessor,\n",
    "    DataProcessorHelper\n",
    ")\n",
    "\n",
    "from mean_reversion.config.config_utils import InitProject, ConfigManager\n",
    "from mean_reversion.factory import DataSourceFactory\n",
    "from mean_reversion.models.models import HyperpametersOptimizer, ModelBuilder\n",
    "import threading\n",
    "import os\n",
    "\n",
    "if __name__ == \"__main__\":\n",
    "    config_manager = ConfigManager()\n",
    "    InitProject.create_common_path()\n",
    "    InitProject.create_custom_path()\n",
    "\n",
    "    data_processor_helper = DataProcessorHelper(config_manager=config_manager)\n",
    "    for source, is_input in config_manager.get_sources():\n",
    "        data_for_source = config_manager.get_config_for_source(source, is_input)\n",
    "\n",
    "        data_source = DataSourceFactory.implement_data_source(\n",
    "            data_for_source,\n",
    "            data_processor_helper=data_processor_helper,\n",
    "            is_input_feature=is_input,\n",
    "        ).run()\n",
    "    if config_manager.config[\"inputs\"][\"future_covariates\"][\"data\"]:\n",
    "        FutureCovariatesProcessor(\n",
    "            config_manager, data_processor_helper\n",
    "        ).run()\n",
    "    DataForModelSelector(config_manager).run()\n",
    "    if config_manager.config['common']['hyperparameters_optimization']['is_optimizing']:\n",
    "           HyperpametersOptimizer(config_manager).run()\n",
    "\n",
    "    ModelBuilder(config_manager).run()\n",
    "\n",
    "    music_thread = threading.Thread(\n",
    "        target=os.system('afplay super-mario-bros.mp3'))\n",
    "    music_thread.start()\n",
    "    print('Program finished successfully')\n"
   ]
  }
 ],
 "metadata": {
  "jupytext": {
   "cell_metadata_filter": "-all",
   "main_language": "python",
   "notebook_metadata_filter": "-all"
  }
 },
 "nbformat": 4,
 "nbformat_minor": 5
}
